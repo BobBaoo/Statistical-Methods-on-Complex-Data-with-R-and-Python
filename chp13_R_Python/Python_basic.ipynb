{
 "cells": [
  {
   "cell_type": "markdown",
   "metadata": {},
   "source": [
    "### 查看工作目录 Check working directory"
   ]
  },
  {
   "cell_type": "code",
   "execution_count": 4,
   "metadata": {},
   "outputs": [
    {
     "name": "stdout",
     "output_type": "stream",
     "text": [
      "/Users/baobo/Desktop/Github/2_Statistical_Methods_on_Complex_Data_with_R_and_Python/chp13_R_Python\n"
     ]
    }
   ],
   "source": [
    "import os\n",
    "print(os.getcwd())\n",
    "# os.chdir('') 变更工作目录"
   ]
  },
  {
   "cell_type": "markdown",
   "metadata": {},
   "source": [
    "### 批量查看文件 Check File"
   ]
  },
  {
   "cell_type": "code",
   "execution_count": 5,
   "metadata": {},
   "outputs": [
    {
     "name": "stdout",
     "output_type": "stream",
     "text": [
      "/Users/baobo/Desktop/Github/2_Statistical_Methods_on_Complex_Data_with_R_and_Python/chp13_R_Python/test.txt 4026\n"
     ]
    }
   ],
   "source": [
    "import os \n",
    "from os.path import join\n",
    "for (dirname,dirs, files) in os.walk('/Users/baobo/Desktop/Github/2_Statistical_Methods_on_Complex_Data_with_R_and_Python/chp13_R_Python'):\n",
    "    for filename in files:\n",
    "        if filename.endswith('.txt'):\n",
    "            thefile = os.path.join(dirname, filename)\n",
    "            print(thefile, os.path.getsize(thefile))"
   ]
  },
  {
   "cell_type": "markdown",
   "metadata": {},
   "source": [
    "### 数据处理基本模块导入 data processing modules"
   ]
  },
  {
   "cell_type": "code",
   "execution_count": 6,
   "metadata": {},
   "outputs": [],
   "source": [
    "import numpy as np\n",
    "import pandas as pd\n",
    "import matplotlib.pyplot as plt\n",
    "import seaborn as sns\n",
    "import os"
   ]
  },
  {
   "cell_type": "markdown",
   "metadata": {},
   "source": [
    "### 向量、矩阵、列表的索引 index of vectors, matrices, and lists"
   ]
  },
  {
   "cell_type": "code",
   "execution_count": 7,
   "metadata": {},
   "outputs": [
    {
     "data": {
      "text/plain": [
       "(['ss', 'swa', 'stick'], ['ss', 'swa'], [2, 3])"
      ]
     },
     "execution_count": 7,
     "metadata": {},
     "output_type": "execute_result"
    }
   ],
   "source": [
    "y = [[1, 2], [1, 2, 3], ['ss', 'swa', 'stick']]\n",
    "y[2], y[2][:2], y[1][1:]"
   ]
  },
  {
   "cell_type": "code",
   "execution_count": 8,
   "metadata": {},
   "outputs": [
    {
     "data": {
      "text/plain": [
       "'A poet can survive everything but a misprint.'"
      ]
     },
     "execution_count": 8,
     "metadata": {},
     "output_type": "execute_result"
    }
   ],
   "source": [
    "x = 'A poet can survive everything but a misprint.'\n",
    "x[:10] + x[10:20] + x[20:30] + x[30:40] + x[40:]"
   ]
  },
  {
   "cell_type": "markdown",
   "metadata": {},
   "source": [
    "### 列表中添加删除元素 append and delete elements in list"
   ]
  },
  {
   "cell_type": "code",
   "execution_count": 14,
   "metadata": {},
   "outputs": [
    {
     "name": "stdout",
     "output_type": "stream",
     "text": [
      "[[1, 2], [3, 5, 7], 'Oscar Wilde', ['save', 'the world']]\n",
      "[[1, 2], [3, 5, 7], 'Oscar Wilde', ['save', 'the world'], 'save', 'the world']\n",
      "[[1, 2], [3, 5, 7], 'Oscar Wilde', ['save', 'the world'], 'save']\n",
      "[[1, 2], [3, 5, 7], ['save', 'the world'], 'save']\n",
      "[[1, 2], [3, 5, 7], ['save', 'the world']]\n",
      "[[3, 5, 7], ['save', 'the world']] <class 'list'>\n"
     ]
    }
   ],
   "source": [
    "x = [[1, 2], [3, 5, 7], 'Oscar Wilde']\n",
    "y = ['save', 'the world']\n",
    "x.append(y); print(x)\n",
    "x.extend(y); print(x)\n",
    "\n",
    "x.pop(); print(x)\n",
    "x.pop(2); print(x)\n",
    "x.remove('save'); print(x)\n",
    "del x[0]; print(x, type(x))"
   ]
  },
  {
   "cell_type": "markdown",
   "metadata": {},
   "source": [
    "### 元组 tuple"
   ]
  },
  {
   "cell_type": "code",
   "execution_count": 15,
   "metadata": {},
   "outputs": [
    {
     "name": "stdout",
     "output_type": "stream",
     "text": [
      "(0, 12, 345, 67, 8, 9, 'we', 'they') (8, 9, 'we')\n"
     ]
    }
   ],
   "source": [
    "x = (0, 12, 345, 67, 8, 9, 'we', 'they')\n",
    "print(x, x[-4:-1])"
   ]
  },
  {
   "cell_type": "markdown",
   "metadata": {},
   "source": [
    "### 范围 range, xrange"
   ]
  },
  {
   "cell_type": "code",
   "execution_count": 18,
   "metadata": {},
   "outputs": [
    {
     "name": "stdout",
     "output_type": "stream",
     "text": [
      "x = range(2, 11, 2), list(x) = [2, 4, 6, 8, 10]\n",
      "type of x is <class 'range'>\n"
     ]
    }
   ],
   "source": [
    "x = range(2, 11, 2)\n",
    "print('x = {}, list(x) = {}'.format(x, list(x)))\n",
    "print('type of x is {}'.format(type(x)))"
   ]
  },
  {
   "cell_type": "markdown",
   "metadata": {},
   "source": [
    "### 字典格式 dictionary"
   ]
  },
  {
   "cell_type": "code",
   "execution_count": 19,
   "metadata": {},
   "outputs": [
    {
     "name": "stdout",
     "output_type": "stream",
     "text": [
      "<class 'dict'>\n",
      "age =  34\n",
      "{'age': 99, 'Children': [1, 2], 1: 'apple', 'zip': 'NA', 'name': 'abc'}\n"
     ]
    }
   ],
   "source": [
    "data = {'age': 34, 'Children': [1,2], 1: 'apple', 'zip': 'NA'}\n",
    "print(type(data))\n",
    "print('age = ', data['age'])\n",
    "data['age'] = 99\n",
    "data['name'] = 'abc'\n",
    "print(data)"
   ]
  }
 ],
 "metadata": {
  "kernelspec": {
   "display_name": "base",
   "language": "python",
   "name": "python3"
  },
  "language_info": {
   "codemirror_mode": {
    "name": "ipython",
    "version": 3
   },
   "file_extension": ".py",
   "mimetype": "text/x-python",
   "name": "python",
   "nbconvert_exporter": "python",
   "pygments_lexer": "ipython3",
   "version": "3.11.5"
  }
 },
 "nbformat": 4,
 "nbformat_minor": 2
}
