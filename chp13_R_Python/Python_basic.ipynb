{
 "cells": [
  {
   "cell_type": "markdown",
   "metadata": {},
   "source": [
    "### 查看工作目录 Check working directory"
   ]
  },
  {
   "cell_type": "code",
   "execution_count": 4,
   "metadata": {},
   "outputs": [
    {
     "name": "stdout",
     "output_type": "stream",
     "text": [
      "/Users/baobo/Desktop/Github/2_Statistical_Methods_on_Complex_Data_with_R_and_Python/chp13_R_Python\n"
     ]
    }
   ],
   "source": [
    "import os\n",
    "print(os.getcwd())\n",
    "# os.chdir('') 变更工作目录"
   ]
  },
  {
   "cell_type": "markdown",
   "metadata": {},
   "source": [
    "### 批量查看文件 Check File"
   ]
  },
  {
   "cell_type": "code",
   "execution_count": 5,
   "metadata": {},
   "outputs": [
    {
     "name": "stdout",
     "output_type": "stream",
     "text": [
      "/Users/baobo/Desktop/Github/2_Statistical_Methods_on_Complex_Data_with_R_and_Python/chp13_R_Python/test.txt 4026\n"
     ]
    }
   ],
   "source": [
    "import os \n",
    "from os.path import join\n",
    "for (dirname,dirs, files) in os.walk('/Users/baobo/Desktop/Github/2_Statistical_Methods_on_Complex_Data_with_R_and_Python/chp13_R_Python'):\n",
    "    for filename in files:\n",
    "        if filename.endswith('.txt'):\n",
    "            thefile = os.path.join(dirname, filename)\n",
    "            print(thefile, os.path.getsize(thefile))"
   ]
  },
  {
   "cell_type": "markdown",
   "metadata": {},
   "source": [
    "### 数据处理基本模块导入 data processing modules"
   ]
  },
  {
   "cell_type": "code",
   "execution_count": 6,
   "metadata": {},
   "outputs": [],
   "source": [
    "import numpy as np\n",
    "import pandas as pd\n",
    "import matplotlib.pyplot as plt\n",
    "import seaborn as sns\n",
    "import os"
   ]
  },
  {
   "cell_type": "markdown",
   "metadata": {},
   "source": [
    "### 向量、矩阵、列表的索引 index of vectors, matrices, and lists"
   ]
  },
  {
   "cell_type": "code",
   "execution_count": 7,
   "metadata": {},
   "outputs": [
    {
     "data": {
      "text/plain": [
       "(['ss', 'swa', 'stick'], ['ss', 'swa'], [2, 3])"
      ]
     },
     "execution_count": 7,
     "metadata": {},
     "output_type": "execute_result"
    }
   ],
   "source": [
    "y = [[1, 2], [1, 2, 3], ['ss', 'swa', 'stick']]\n",
    "y[2], y[2][:2], y[1][1:]"
   ]
  },
  {
   "cell_type": "code",
   "execution_count": 8,
   "metadata": {},
   "outputs": [
    {
     "data": {
      "text/plain": [
       "'A poet can survive everything but a misprint.'"
      ]
     },
     "execution_count": 8,
     "metadata": {},
     "output_type": "execute_result"
    }
   ],
   "source": [
    "x = 'A poet can survive everything but a misprint.'\n",
    "x[:10] + x[10:20] + x[20:30] + x[30:40] + x[40:]"
   ]
  },
  {
   "cell_type": "markdown",
   "metadata": {},
   "source": [
    "### 列表中添加删除元素 append and delete elements in list"
   ]
  },
  {
   "cell_type": "code",
   "execution_count": 14,
   "metadata": {},
   "outputs": [
    {
     "name": "stdout",
     "output_type": "stream",
     "text": [
      "[[1, 2], [3, 5, 7], 'Oscar Wilde', ['save', 'the world']]\n",
      "[[1, 2], [3, 5, 7], 'Oscar Wilde', ['save', 'the world'], 'save', 'the world']\n",
      "[[1, 2], [3, 5, 7], 'Oscar Wilde', ['save', 'the world'], 'save']\n",
      "[[1, 2], [3, 5, 7], ['save', 'the world'], 'save']\n",
      "[[1, 2], [3, 5, 7], ['save', 'the world']]\n",
      "[[3, 5, 7], ['save', 'the world']] <class 'list'>\n"
     ]
    }
   ],
   "source": [
    "x = [[1, 2], [3, 5, 7], 'Oscar Wilde']\n",
    "y = ['save', 'the world']\n",
    "x.append(y); print(x)\n",
    "x.extend(y); print(x)\n",
    "\n",
    "x.pop(); print(x)\n",
    "x.pop(2); print(x)\n",
    "x.remove('save'); print(x)\n",
    "del x[0]; print(x, type(x))"
   ]
  },
  {
   "cell_type": "markdown",
   "metadata": {},
   "source": [
    "### 元组 tuple"
   ]
  },
  {
   "cell_type": "code",
   "execution_count": 15,
   "metadata": {},
   "outputs": [
    {
     "name": "stdout",
     "output_type": "stream",
     "text": [
      "(0, 12, 345, 67, 8, 9, 'we', 'they') (8, 9, 'we')\n"
     ]
    }
   ],
   "source": [
    "x = (0, 12, 345, 67, 8, 9, 'we', 'they')\n",
    "print(x, x[-4:-1])"
   ]
  },
  {
   "cell_type": "markdown",
   "metadata": {},
   "source": [
    "### 范围 range, xrange"
   ]
  },
  {
   "cell_type": "code",
   "execution_count": 18,
   "metadata": {},
   "outputs": [
    {
     "name": "stdout",
     "output_type": "stream",
     "text": [
      "x = range(2, 11, 2), list(x) = [2, 4, 6, 8, 10]\n",
      "type of x is <class 'range'>\n"
     ]
    }
   ],
   "source": [
    "x = range(2, 11, 2)\n",
    "print('x = {}, list(x) = {}'.format(x, list(x)))\n",
    "print('type of x is {}'.format(type(x)))"
   ]
  },
  {
   "cell_type": "markdown",
   "metadata": {},
   "source": [
    "### 字典格式 dictionary"
   ]
  },
  {
   "cell_type": "code",
   "execution_count": 19,
   "metadata": {},
   "outputs": [
    {
     "name": "stdout",
     "output_type": "stream",
     "text": [
      "<class 'dict'>\n",
      "age =  34\n",
      "{'age': 99, 'Children': [1, 2], 1: 'apple', 'zip': 'NA', 'name': 'abc'}\n"
     ]
    }
   ],
   "source": [
    "data = {'age': 34, 'Children': [1,2], 1: 'apple', 'zip': 'NA'}\n",
    "print(type(data))\n",
    "print('age = ', data['age'])\n",
    "data['age'] = 99\n",
    "data['name'] = 'abc'\n",
    "print(data)"
   ]
  },
  {
   "cell_type": "markdown",
   "metadata": {},
   "source": [
    "### 集合运算 set operations"
   ]
  },
  {
   "cell_type": "code",
   "execution_count": 2,
   "metadata": {},
   "outputs": [
    {
     "name": "stdout",
     "output_type": "stream",
     "text": [
      "{'they', 'he', 'we', 'you', 'all', 'I'} <class 'set'> 6\n",
      "{'they', 'he', 'we', 'none', 'you', 'all', 'I'}\n",
      "set.difference(x,y) =  {'they', 'he', 'none', 'you', 'all'}\n",
      "set.union(x,y) =  {'they', 'he', 'we', 'none', 'us', 'all', 'you', 'I'}\n",
      "set.intersection(x,y) =  {'I', 'we'}\n",
      "x =  {'they', 'he', 'we', 'you', 'all', 'I'} \n",
      " y =  {'us', 'I', 'we'}\n"
     ]
    }
   ],
   "source": [
    "x = set(['we', 'you', 'he', 'I', 'they']); y = set(['I', 'we', 'us'])\n",
    "x.add('all'); print(x, type(x), len(x))\n",
    "set.add(x, 'none'); print(x)\n",
    "print('set.difference(x,y) = ', set.difference(x,y))\n",
    "print('set.union(x,y) = ', set.union(x,y))\n",
    "print('set.intersection(x,y) = ', set.intersection(x,y))\n",
    "x.remove('none')\n",
    "print('x = ', x, '\\n', 'y = ', y)"
   ]
  },
  {
   "cell_type": "markdown",
   "metadata": {},
   "source": [
    "### 使用id来确定函数储存位置  "
   ]
  },
  {
   "cell_type": "code",
   "execution_count": 5,
   "metadata": {},
   "outputs": [
    {
     "name": "stdout",
     "output_type": "stream",
     "text": [
      "1 1 4511178072 4511178072\n",
      "2.0 1 4570557648 4511178072\n",
      "[10, 2, 3] [10, 2, 3] 4646085760\n",
      "[1, 2, 3] [1, 2, 3] False True\n",
      "True True\n"
     ]
    }
   ],
   "source": [
    "x = 1; y = x; print(x, y, id(x), id(y))\n",
    "x = 2.0; print(x, y, id(x), id(y))\n",
    "x = [1, 2, 3]; y = x; y[0] = 10\n",
    "print(x, y, id(y))\n",
    "x = [1, 2, 3]; y = x[:]\n",
    "print(x, y, id(x) == id(y), id(x[0]) == id(y[0]))\n",
    "print(id(x[1]) == id(y[1]), id(x[2]) == id(y[2]))"
   ]
  },
  {
   "cell_type": "markdown",
   "metadata": {},
   "source": [
    "### 定义函数 包括lambda函数 define function and lambda function"
   ]
  },
  {
   "cell_type": "code",
   "execution_count": 2,
   "metadata": {},
   "outputs": [
    {
     "name": "stdout",
     "output_type": "stream",
     "text": [
      "8\n",
      "[1.24, 27.790000000000003, 534.36, 31]\n"
     ]
    }
   ],
   "source": [
    "def f(x): return x**2-x\n",
    "g = lambda x: max(x**2, x**3)\n",
    "print(g(2))\n",
    "print(list(map(lambda x : x**2+1-abs(x), [1.2, 5.7, 23.6, 6])))"
   ]
  },
  {
   "cell_type": "code",
   "execution_count": 3,
   "metadata": {},
   "outputs": [
    {
     "name": "stdout",
     "output_type": "stream",
     "text": [
      "One of you is happy!\n"
     ]
    }
   ],
   "source": [
    "from random import *\n",
    "def RandomHappy():\n",
    "    if randint(1, 100) > 50:\n",
    "        x = 'Happy'\n",
    "    else:\n",
    "        x = 'Unhappy'\n",
    "    if randint(1, 100) > 50:\n",
    "        y = 'Happy'\n",
    "    else:\n",
    "        y = 'Unhappy'\n",
    "    if x == 'Happy' and y == 'Happy':\n",
    "        print('You both are happy!')\n",
    "    elif x != y:\n",
    "        print('One of you is happy!')\n",
    "    else:\n",
    "        print('You are miserable TAT')\n",
    "\n",
    "RandomHappy()"
   ]
  },
  {
   "cell_type": "markdown",
   "metadata": {},
   "source": [
    "### for循环和打开txt文件 For loop in python and open txt file"
   ]
  },
  {
   "cell_type": "code",
   "execution_count": 9,
   "metadata": {},
   "outputs": [
    {
     "name": "stdout",
     "output_type": "stream",
     "text": [
      "J\n",
      "u\n",
      "s\n",
      "t\n",
      " \n",
      "a\n",
      " \n",
      "w\n",
      "o\n",
      "r\n",
      "d\n",
      "Just 4\n",
      "a 1\n",
      "word 4\n",
      "\n",
      "------------------------------------------------------------------------------\n",
      "\n",
      "0.2222222222222222\n",
      "4 24.0\n",
      "2 8.0\n",
      "4.3324930223107386e+17\n",
      "34\n"
     ]
    }
   ],
   "source": [
    "# with open ('test.txt', 'r') as f:\n",
    "#     lines = f.readlines()\n",
    "# lines[1:20]\n",
    "\n",
    "################################################################################\n",
    "\n",
    "x = 'Just a word'\n",
    "\n",
    "for i in x:\n",
    "    print(i)\n",
    "\n",
    "for i in x.split():\n",
    "    print(i, len(i))\n",
    "\n",
    "print('\\n------------------------------------------------------------------------------\\n')\n",
    "\n",
    "for i in [-1, 4, 2, 27, -34]:\n",
    "    if i > 0 and i < 15:\n",
    "        print(i, i**2 + i/ .5)\n",
    "    elif i <0 and abs(i) > 5:\n",
    "        print(abs(i))\n",
    "    else:\n",
    "        print(4.5 ** i)"
   ]
  },
  {
   "cell_type": "code",
   "execution_count": 12,
   "metadata": {},
   "outputs": [
    {
     "name": "stdout",
     "output_type": "stream",
     "text": [
      "y =  [0, 1, 4, 9, 16]\n",
      "z =  [0, 1, 4, 9, 16]\n",
      "##################################################################################\n",
      "['mouse', [1, 2, 3], ['a']] \n",
      " ['m', 'o', 'u', 's', 'e', 1, 2, 3, 'a']\n"
     ]
    }
   ],
   "source": [
    "x = range(5)\n",
    "x \n",
    "y = []\n",
    "for i in range(len(x)):\n",
    "    if float(i/2) == i/2:\n",
    "        y.append(x[i] ** 2)\n",
    "print('y = ', y)\n",
    "\n",
    "z = [x[i] ** 2 for i in range(len(x)) if float(i/2) == i/2]\n",
    "\n",
    "print('z = ', z)\n",
    "\n",
    "print('##################################################################################')\n",
    "\n",
    "my_list = ['mouse', [1,2,3], ['a']]\n",
    "my_list_copy = []\n",
    "my_list_mix = []\n",
    "for i in my_list:\n",
    "    my_list_copy.append(i)\n",
    "    my_list_mix.extend(i)\n",
    "print(my_list_copy, '\\n', my_list_mix)"
   ]
  },
  {
   "cell_type": "markdown",
   "metadata": {},
   "source": [
    "### Numpy 模块"
   ]
  },
  {
   "cell_type": "code",
   "execution_count": null,
   "metadata": {},
   "outputs": [],
   "source": [
    "import numpy as np\n",
    "x = np.random.randn(25, 5)\n",
    "# np.savetxt('tabs.txt', x) # 保存为指标分隔符的文件\n",
    "# np.savetxt('commas.csv', delimiter = ',') # 保存为逗号分隔符的文件\n",
    "# u = np.loadtxt('commas.csv', delimiter = ',') # 读取逗号分隔符的文件\n",
    "# v = np.loadtxt('tabs.txt') # 读取制表符分隔文件"
   ]
  },
  {
   "cell_type": "code",
   "execution_count": 16,
   "metadata": {},
   "outputs": [
    {
     "name": "stdout",
     "output_type": "stream",
     "text": [
      "[[[   1    4    7]\n",
      "  [   2    5    8]]\n",
      "\n",
      " [[   3    6    9]\n",
      "  [  10  100 1000]]]\n",
      "(2, 2, 3)\n",
      "<class 'numpy.ndarray'> int64\n",
      "3 [2 5 8]\n"
     ]
    }
   ],
   "source": [
    "### 矩阵和数组\n",
    "import numpy as np\n",
    "y = np.array([[[1, 4, 7], [2, 5, 8]], [[3, 6, 9], [10, 100, 1000]]])\n",
    "print(y)\n",
    "\n",
    "print(np.shape(y))\n",
    "\n",
    "print(type(y), y.dtype)\n",
    "\n",
    "print(y[1, 0, 0], y[0, 1, :])"
   ]
  },
  {
   "cell_type": "code",
   "execution_count": 19,
   "metadata": {},
   "outputs": [
    {
     "name": "stdout",
     "output_type": "stream",
     "text": [
      "(3,) (3,)\n",
      "[5 3 9] [0.         0.5        0.28571429] 16\n",
      "[5. 3. 9.]\n",
      "[0.         0.5        0.28571429]\n",
      "[1.66666667 0.66666667 2.33333333] [1.66666667 0.66666667 2.33333333] [1.66666667 0.66666667 2.33333333] [ 6.25  0.25 20.25]\n"
     ]
    }
   ],
   "source": [
    "import numpy as np\n",
    "u = np.array([0, 1, 2]); v = np.array([5, 2, 7])\n",
    "print(u.shape, v.shape)\n",
    "print(u + v, u/v, np.dot(u, v))\n",
    "\n",
    "u = [0.0, 1, 2]; v = [5, 2, 7]\n",
    "u = np.array(u); v = np.array(v)\n",
    "print(u + v)\n",
    "print(u/v)\n",
    "print(v/3, v/3., v/float(3), (v - 2.5) ** 2)"
   ]
  }
 ],
 "metadata": {
  "kernelspec": {
   "display_name": "base",
   "language": "python",
   "name": "python3"
  },
  "language_info": {
   "codemirror_mode": {
    "name": "ipython",
    "version": 3
   },
   "file_extension": ".py",
   "mimetype": "text/x-python",
   "name": "python",
   "nbconvert_exporter": "python",
   "pygments_lexer": "ipython3",
   "version": "3.11.5"
  }
 },
 "nbformat": 4,
 "nbformat_minor": 2
}
